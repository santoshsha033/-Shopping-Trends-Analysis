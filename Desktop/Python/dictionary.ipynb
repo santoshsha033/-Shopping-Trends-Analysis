{
 "cells": [
  {
   "cell_type": "code",
   "execution_count": 2,
   "id": "014e7b88-57e4-4874-9897-d9bc46b31866",
   "metadata": {},
   "outputs": [],
   "source": [
    "my_dict = {'key1' : 'value1', 'key2' : 'value2'}\n"
   ]
  },
  {
   "cell_type": "code",
   "execution_count": 4,
   "id": "bff37bc1-4634-4782-bd03-db3698781d62",
   "metadata": {},
   "outputs": [
    {
     "data": {
      "text/plain": [
       "{'key1': 'value1', 'key2': 'value2'}"
      ]
     },
     "execution_count": 4,
     "metadata": {},
     "output_type": "execute_result"
    }
   ],
   "source": [
    "my_dict"
   ]
  },
  {
   "cell_type": "code",
   "execution_count": 6,
   "id": "062edc9b-afe3-4f99-ae65-974080226272",
   "metadata": {},
   "outputs": [
    {
     "data": {
      "text/plain": [
       "'value1'"
      ]
     },
     "execution_count": 6,
     "metadata": {},
     "output_type": "execute_result"
    }
   ],
   "source": [
    "my_dict['key1']"
   ]
  },
  {
   "cell_type": "code",
   "execution_count": 4,
   "id": "f0e0446a-6c1d-4f13-9fc8-1917dba58f90",
   "metadata": {},
   "outputs": [],
   "source": [
    "prices = {'apples' : 2.99, 'orange' : 3.90, 'kiwi' : 5.90}\n"
   ]
  },
  {
   "cell_type": "code",
   "execution_count": 6,
   "id": "434af9bd-7082-4911-8feb-5a67a3dde7d1",
   "metadata": {},
   "outputs": [
    {
     "data": {
      "text/plain": [
       "3.9"
      ]
     },
     "execution_count": 6,
     "metadata": {},
     "output_type": "execute_result"
    }
   ],
   "source": [
    "prices['orange']"
   ]
  },
  {
   "cell_type": "code",
   "execution_count": 41,
   "id": "e5ee3032-0008-4367-8b9b-520a0c5ffd64",
   "metadata": {},
   "outputs": [],
   "source": [
    "d = {'k1' : 90, 'k2' : ['a', 'b', 'c'], 'k3' : {'insideKey' : 100}}"
   ]
  },
  {
   "cell_type": "code",
   "execution_count": 26,
   "id": "bef5e116-0415-4255-af9c-162e038a3ba7",
   "metadata": {},
   "outputs": [
    {
     "data": {
      "text/plain": [
       "90"
      ]
     },
     "execution_count": 26,
     "metadata": {},
     "output_type": "execute_result"
    }
   ],
   "source": [
    "d['k1']"
   ]
  },
  {
   "cell_type": "code",
   "execution_count": 28,
   "id": "79e08809-abf8-4f2c-ae15-cc3ec3b0d591",
   "metadata": {},
   "outputs": [
    {
     "data": {
      "text/plain": [
       "{'insideKey': 100}"
      ]
     },
     "execution_count": 28,
     "metadata": {},
     "output_type": "execute_result"
    }
   ],
   "source": [
    "d['k2']\n",
    "d['k3']"
   ]
  },
  {
   "cell_type": "code",
   "execution_count": 18,
   "id": "a495d62d-2c91-4915-a939-1351b7188f90",
   "metadata": {},
   "outputs": [
    {
     "data": {
      "text/plain": [
       "100"
      ]
     },
     "execution_count": 18,
     "metadata": {},
     "output_type": "execute_result"
    }
   ],
   "source": [
    "d['k3']['insideKey']"
   ]
  },
  {
   "cell_type": "code",
   "execution_count": 43,
   "id": "c72e74e6-1f55-401e-8bf2-691868652250",
   "metadata": {},
   "outputs": [],
   "source": [
    "my_list = d['k2']"
   ]
  },
  {
   "cell_type": "code",
   "execution_count": 45,
   "id": "dcebc9a2-a80a-479a-922f-d327b70dc91a",
   "metadata": {},
   "outputs": [
    {
     "data": {
      "text/plain": [
       "'c'"
      ]
     },
     "execution_count": 45,
     "metadata": {},
     "output_type": "execute_result"
    }
   ],
   "source": [
    "my_list[2]"
   ]
  },
  {
   "cell_type": "code",
   "execution_count": 49,
   "id": "16152bc3-e670-4396-b39b-6490b64ca1c9",
   "metadata": {},
   "outputs": [],
   "source": [
    "d = {'key1' : ['a', 'b', 'c']}"
   ]
  },
  {
   "cell_type": "code",
   "execution_count": 51,
   "id": "5ba7ff3f-1c03-4140-b4f3-e0b565d20424",
   "metadata": {},
   "outputs": [
    {
     "data": {
      "text/plain": [
       "['a', 'b', 'c']"
      ]
     },
     "execution_count": 51,
     "metadata": {},
     "output_type": "execute_result"
    }
   ],
   "source": [
    "d['key1']"
   ]
  },
  {
   "cell_type": "code",
   "execution_count": 57,
   "id": "05f5a8ae-93c2-43c0-80ba-dd049f9bef06",
   "metadata": {},
   "outputs": [],
   "source": [
    "a = d['key1'][2]"
   ]
  },
  {
   "cell_type": "code",
   "execution_count": 59,
   "id": "ec86dec2-aae7-40c6-a319-7ccedfee9d21",
   "metadata": {},
   "outputs": [
    {
     "data": {
      "text/plain": [
       "'C'"
      ]
     },
     "execution_count": 59,
     "metadata": {},
     "output_type": "execute_result"
    }
   ],
   "source": [
    "a.upper()"
   ]
  },
  {
   "cell_type": "code",
   "execution_count": 67,
   "id": "b6159ea2-cdf1-463c-a460-22ca30ecd229",
   "metadata": {},
   "outputs": [],
   "source": [
    "d = {'k1' : 100, 'k2' : 200, 'k3' : 300}"
   ]
  },
  {
   "cell_type": "code",
   "execution_count": 73,
   "id": "a58ac469-3a36-4949-a0b9-a78de14d0df8",
   "metadata": {},
   "outputs": [],
   "source": [
    "d['k1'] = 'new value'"
   ]
  },
  {
   "cell_type": "code",
   "execution_count": 75,
   "id": "890c059f-e726-4e19-94f5-4124f975d79e",
   "metadata": {},
   "outputs": [
    {
     "data": {
      "text/plain": [
       "{'k1': 'new value', 'k2': 200, 'k3': 300}"
      ]
     },
     "execution_count": 75,
     "metadata": {},
     "output_type": "execute_result"
    }
   ],
   "source": [
    "d"
   ]
  },
  {
   "cell_type": "code",
   "execution_count": 77,
   "id": "a7ef8f06-ac7e-441c-aa78-06cf438e4b58",
   "metadata": {},
   "outputs": [],
   "source": [
    "d = {'k1' : 100, 'k2' : 200, 'k3' : 300}"
   ]
  },
  {
   "cell_type": "code",
   "execution_count": 79,
   "id": "059475f9-253d-428a-8d97-e51adaaf4c15",
   "metadata": {},
   "outputs": [
    {
     "data": {
      "text/plain": [
       "dict_keys(['k1', 'k2', 'k3'])"
      ]
     },
     "execution_count": 79,
     "metadata": {},
     "output_type": "execute_result"
    }
   ],
   "source": [
    "d.keys()"
   ]
  },
  {
   "cell_type": "code",
   "execution_count": 81,
   "id": "c837cbf5-78bc-4817-b65c-c5a58ef8979b",
   "metadata": {},
   "outputs": [
    {
     "data": {
      "text/plain": [
       "dict_values([100, 200, 300])"
      ]
     },
     "execution_count": 81,
     "metadata": {},
     "output_type": "execute_result"
    }
   ],
   "source": [
    "d.values()"
   ]
  },
  {
   "cell_type": "code",
   "execution_count": 83,
   "id": "a30f71eb-e3eb-41ae-bc69-8b9fb164f42a",
   "metadata": {},
   "outputs": [
    {
     "data": {
      "text/plain": [
       "dict_items([('k1', 100), ('k2', 200), ('k3', 300)])"
      ]
     },
     "execution_count": 83,
     "metadata": {},
     "output_type": "execute_result"
    }
   ],
   "source": [
    "d.items()"
   ]
  },
  {
   "cell_type": "code",
   "execution_count": null,
   "id": "0ac954fa-882b-419c-84cc-beae93411ad6",
   "metadata": {},
   "outputs": [],
   "source": []
  }
 ],
 "metadata": {
  "kernelspec": {
   "display_name": "Python 3 (ipykernel)",
   "language": "python",
   "name": "python3"
  },
  "language_info": {
   "codemirror_mode": {
    "name": "ipython",
    "version": 3
   },
   "file_extension": ".py",
   "mimetype": "text/x-python",
   "name": "python",
   "nbconvert_exporter": "python",
   "pygments_lexer": "ipython3",
   "version": "3.12.7"
  }
 },
 "nbformat": 4,
 "nbformat_minor": 5
}
